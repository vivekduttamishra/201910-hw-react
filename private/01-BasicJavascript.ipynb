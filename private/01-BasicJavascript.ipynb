{
 "cells": [
  {
   "cell_type": "markdown",
   "metadata": {},
   "source": [
    "# Basic Javascript Demos\n",
    "\n",
    "\n",
    "\n",
    "## 1. data types in javascript\n",
    "\n",
    "* there are 5 different types in javascript\n",
    "\n",
    "    1. number --> there is no separate int, float , double etc\n",
    "    2. string --> there is no separate char type\n",
    "    3. boolean --> true/false\n",
    "    4. Object\n",
    "        * rest of the elements\n",
    "        \n",
    "* javascript variables are all **references**\n",
    "* A reference doesn't have a type\n",
    "    * it takes the type of the object\n",
    "    \n",
    "* A reference can be reassigned a value of may be different type\n",
    "\n",
    "* you create a reference using **var** keyword"
   ]
  },
  {
   "cell_type": "code",
   "execution_count": 3,
   "metadata": {},
   "outputs": [
    {
     "name": "stdout",
     "output_type": "stream",
     "text": [
      "20 number\n"
     ]
    }
   ],
   "source": [
    "var a=20;\n",
    "console.log(a,typeof(a));"
   ]
  },
  {
   "cell_type": "code",
   "execution_count": 4,
   "metadata": {},
   "outputs": [
    {
     "name": "stdout",
     "output_type": "stream",
     "text": [
      "Hello string\n"
     ]
    }
   ],
   "source": [
    "a='Hello';\n",
    "console.log(a,typeof(a));"
   ]
  },
  {
   "cell_type": "code",
   "execution_count": 5,
   "metadata": {},
   "outputs": [
    {
     "name": "stdout",
     "output_type": "stream",
     "text": [
      "20 number\n",
      "30.5 number\n",
      "hello string\n",
      "x string\n",
      "true boolean\n",
      "false boolean\n",
      "{} object\n",
      "{} object\n",
      "[] object\n",
      "2019-10-16T06:18:33.792Z object\n",
      "null object\n"
     ]
    }
   ],
   "source": [
    "var a=20;\n",
    "var b=30.5;\n",
    "var c='hello';\n",
    "var d=\"x\";\n",
    "var e=true;\n",
    "var f=3>7;\n",
    "\n",
    "var g=new Object();\n",
    "var h={};\n",
    "var i=[];\n",
    "var j=new Date();\n",
    "\n",
    "var k=null;\n",
    "\n",
    "console.log(a,typeof(a));\n",
    "console.log(b,typeof(b));\n",
    "console.log(c,typeof(c));\n",
    "console.log(d,typeof(d));\n",
    "console.log(e,typeof(e));\n",
    "\n",
    "console.log(f,typeof(f));\n",
    "console.log(g,typeof(g));\n",
    "console.log(h,typeof(h));\n",
    "console.log(i,typeof(i));\n",
    "console.log(j,typeof(j));\n",
    "console.log(k,typeof(k));\n",
    "\n"
   ]
  },
  {
   "cell_type": "markdown",
   "metadata": {},
   "source": [
    "### special values --- null and undefined\n",
    "\n",
    "* **null** is a special object in javascript of type **null**\n",
    "* **undefined** is not a object, it represent that something is undefined\n",
    "\n",
    "* undefined may be\n",
    "    * a value\n",
    "        * explicit\n",
    "        * implicit\n",
    "    * a reference\n",
    "    \n",
    "#### explicit undefined value"
   ]
  },
  {
   "cell_type": "code",
   "execution_count": 6,
   "metadata": {},
   "outputs": [
    {
     "name": "stdout",
     "output_type": "stream",
     "text": [
      "undefined undefined\n"
     ]
    }
   ],
   "source": [
    "var l=undefined;\n",
    "console.log(l,typeof(l));"
   ]
  },
  {
   "cell_type": "markdown",
   "metadata": {},
   "source": [
    "#### implicit undefined value"
   ]
  },
  {
   "cell_type": "code",
   "execution_count": 7,
   "metadata": {},
   "outputs": [
    {
     "name": "stdout",
     "output_type": "stream",
     "text": [
      "undefined undefined\n"
     ]
    }
   ],
   "source": [
    "var m;\n",
    "\n",
    "console.log(m,typeof(m));"
   ]
  },
  {
   "cell_type": "markdown",
   "metadata": {},
   "source": [
    "#### undefined reference"
   ]
  },
  {
   "cell_type": "code",
   "execution_count": 9,
   "metadata": {},
   "outputs": [
    {
     "name": "stdout",
     "output_type": "stream",
     "text": [
      "undefined\n"
     ]
    }
   ],
   "source": [
    "console.log(typeof(n));"
   ]
  },
  {
   "cell_type": "markdown",
   "metadata": {},
   "source": [
    "### NOTE: you can't use undefined reference "
   ]
  },
  {
   "cell_type": "code",
   "execution_count": 10,
   "metadata": {},
   "outputs": [
    {
     "ename": "ReferenceError",
     "evalue": "n is not defined",
     "output_type": "error",
     "traceback": [
      "evalmachine.<anonymous>:1",
      "console.log(n);",
      "            ^",
      "",
      "ReferenceError: n is not defined",
      "    at evalmachine.<anonymous>:1:13",
      "    at Script.runInThisContext (vm.js:123:20)",
      "    at Object.runInThisContext (vm.js:313:38)",
      "    at run ([eval]:1054:15)",
      "    at onRunRequest ([eval]:888:18)",
      "    at onMessage ([eval]:848:13)",
      "    at process.emit (events.js:203:13)",
      "    at emit (internal/child_process.js:876:12)",
      "    at processTicksAndRejections (internal/process/task_queues.js:77:11)"
     ]
    }
   ],
   "source": [
    "console.log(n);"
   ]
  },
  {
   "cell_type": "markdown",
   "metadata": {},
   "source": [
    "## Array\n",
    "\n",
    "* Array is javascript is a **dynamic object**\n",
    "    * comparable to **List** of **C#** or **ArrayList** of **java**\n",
    "    \n",
    "* Array is an **Object**\n",
    "    * well everything is object\n",
    "    * its an object of type **Object**\n",
    "    \n",
    "* Arrays can hold values of different types\n",
    "    * there is nothing called homogenous array\n",
    "    * arrays are like array of object in javascript\n",
    "    \n",
    "    "
   ]
  },
  {
   "cell_type": "code",
   "execution_count": 11,
   "metadata": {},
   "outputs": [],
   "source": [
    "var values=[2,'hello', new Date()];"
   ]
  },
  {
   "cell_type": "code",
   "execution_count": 12,
   "metadata": {},
   "outputs": [
    {
     "name": "stdout",
     "output_type": "stream",
     "text": [
      "[ 2, 'hello', 2019-10-16T06:24:56.944Z ] object\n"
     ]
    }
   ],
   "source": [
    "console.log(values, typeof(values));"
   ]
  },
  {
   "cell_type": "markdown",
   "metadata": {},
   "source": [
    "### common array operations\n"
   ]
  },
  {
   "cell_type": "code",
   "execution_count": 13,
   "metadata": {},
   "outputs": [
    {
     "data": {
      "text/plain": [
       "2"
      ]
     },
     "execution_count": 13,
     "metadata": {},
     "output_type": "execute_result"
    }
   ],
   "source": [
    "values[0]"
   ]
  },
  {
   "cell_type": "code",
   "execution_count": 14,
   "metadata": {},
   "outputs": [
    {
     "data": {
      "text/plain": [
       "2019-10-16T06:24:56.944Z"
      ]
     },
     "execution_count": 14,
     "metadata": {},
     "output_type": "execute_result"
    }
   ],
   "source": [
    "values[2]"
   ]
  },
  {
   "cell_type": "code",
   "execution_count": 15,
   "metadata": {},
   "outputs": [
    {
     "name": "stdout",
     "output_type": "stream",
     "text": [
      "[ 2, 'hello world', 2019-10-16T06:24:56.944Z ]\n"
     ]
    }
   ],
   "source": [
    "values[1]='hello world';\n",
    "\n",
    "console.log(values);"
   ]
  },
  {
   "cell_type": "code",
   "execution_count": 16,
   "metadata": {},
   "outputs": [
    {
     "data": {
      "text/plain": [
       "3"
      ]
     },
     "execution_count": 16,
     "metadata": {},
     "output_type": "execute_result"
    }
   ],
   "source": [
    "values.length"
   ]
  },
  {
   "cell_type": "code",
   "execution_count": 18,
   "metadata": {},
   "outputs": [
    {
     "name": "stdout",
     "output_type": "stream",
     "text": [
      "0 => 2\n",
      "1 => hello world\n",
      "2 => 2019-10-16T06:24:56.944Z\n"
     ]
    }
   ],
   "source": [
    "for(var i=0;i<values.length;i++)\n",
    "    console.log(i,'=>',    values[i]);"
   ]
  },
  {
   "cell_type": "markdown",
   "metadata": {},
   "source": [
    "### Accessing invalid index\n",
    "\n",
    "* unlike c# accessing invalid index returns **undefined** and doesn't raise exception"
   ]
  },
  {
   "cell_type": "code",
   "execution_count": 19,
   "metadata": {},
   "outputs": [
    {
     "name": "stdout",
     "output_type": "stream",
     "text": [
      "undefined\n"
     ]
    }
   ],
   "source": [
    "console.log(values[100]);"
   ]
  },
  {
   "cell_type": "markdown",
   "metadata": {},
   "source": [
    "### Dynamically manipulating array"
   ]
  },
  {
   "cell_type": "code",
   "execution_count": 20,
   "metadata": {},
   "outputs": [
    {
     "name": "stdout",
     "output_type": "stream",
     "text": [
      "[\n",
      "  2,\n",
      "  'hello world',\n",
      "  2019-10-16T06:24:56.944Z,\n",
      "  'new value1',\n",
      "  'new value2'\n",
      "]\n"
     ]
    }
   ],
   "source": [
    "values.push('new value1');\n",
    "values.push('new value2');\n",
    "\n",
    "console.log(values);"
   ]
  },
  {
   "cell_type": "code",
   "execution_count": 22,
   "metadata": {},
   "outputs": [
    {
     "name": "stdout",
     "output_type": "stream",
     "text": [
      "[\n",
      "  1, 2, 3, 4,  5,\n",
      "  6, 7, 8, 9, 10\n",
      "]\n",
      "[\n",
      "  1, 2,  6, 7,\n",
      "  8, 9, 10\n",
      "]\n"
     ]
    }
   ],
   "source": [
    "values=[1,2,3,4,5,6,7,8,9,10];\n",
    "console.log(values);\n",
    "values.splice(2,3); //remove from index 2 next 3 values :  3,4,5\n",
    "console.log(values);"
   ]
  },
  {
   "cell_type": "markdown",
   "metadata": {},
   "source": [
    "## Functions\n",
    "\n",
    "* functions are similar to C# like functions except\n",
    "\n",
    "* there is no **explicit (return ) type** in javascript\n",
    "* there is no way to specify the **parameter type**\n",
    "\n",
    "* a simple javascript function would look like"
   ]
  },
  {
   "cell_type": "code",
   "execution_count": 23,
   "metadata": {},
   "outputs": [],
   "source": [
    "function sum(x,y){\n",
    "    return x+y;\n",
    "}"
   ]
  },
  {
   "cell_type": "markdown",
   "metadata": {},
   "source": [
    "#### Note\n",
    "\n",
    "* function begins with **function** keyword\n",
    "* you can pass parameter without speifying type (you can't specify type)\n",
    "* you can return a value (cant defined return type)\n"
   ]
  },
  {
   "cell_type": "code",
   "execution_count": 24,
   "metadata": {},
   "outputs": [
    {
     "name": "stdout",
     "output_type": "stream",
     "text": [
      "number 5\n"
     ]
    }
   ],
   "source": [
    "result=sum(2,3);\n",
    "\n",
    "console.log(typeof(result),result);"
   ]
  },
  {
   "cell_type": "markdown",
   "metadata": {},
   "source": [
    "### Note\n",
    "\n",
    "* you may pass non-number to the above function\n",
    "* since function doesn't know it will take the value\n",
    "* and try to operate on them\n",
    "* interestingly it will be success for **sum**\n",
    "    * anything that is not a number is converted to **string** by **+** operator"
   ]
  },
  {
   "cell_type": "code",
   "execution_count": 25,
   "metadata": {},
   "outputs": [
    {
     "data": {
      "text/plain": [
       "'helloworld'"
      ]
     },
     "execution_count": 25,
     "metadata": {},
     "output_type": "execute_result"
    }
   ],
   "source": [
    "sum('hello','world');"
   ]
  },
  {
   "cell_type": "code",
   "execution_count": 26,
   "metadata": {},
   "outputs": [
    {
     "data": {
      "text/plain": [
       "'hello7'"
      ]
     },
     "execution_count": 26,
     "metadata": {},
     "output_type": "execute_result"
    }
   ],
   "source": [
    "sum('hello',7);"
   ]
  },
  {
   "cell_type": "code",
   "execution_count": 27,
   "metadata": {},
   "outputs": [
    {
     "data": {
      "text/plain": [
       "'Wed Oct 16 2019 12:04:01 GMT+0530 (India Standard Time)22'"
      ]
     },
     "execution_count": 27,
     "metadata": {},
     "output_type": "execute_result"
    }
   ],
   "source": [
    "sum(new Date(),22);"
   ]
  },
  {
   "cell_type": "markdown",
   "metadata": {},
   "source": [
    "### It may not work for every function"
   ]
  },
  {
   "cell_type": "code",
   "execution_count": 28,
   "metadata": {},
   "outputs": [],
   "source": [
    "function average(x,y){\n",
    "    return (x+y)/2;\n",
    "}"
   ]
  },
  {
   "cell_type": "markdown",
   "metadata": {},
   "source": [
    "#### it will work for numbers"
   ]
  },
  {
   "cell_type": "code",
   "execution_count": 29,
   "metadata": {},
   "outputs": [
    {
     "data": {
      "text/plain": [
       "6.5"
      ]
     },
     "execution_count": 29,
     "metadata": {},
     "output_type": "execute_result"
    }
   ],
   "source": [
    "average(2,11);"
   ]
  },
  {
   "cell_type": "markdown",
   "metadata": {},
   "source": [
    "### function will be called but will fail in result for non-number types"
   ]
  },
  {
   "cell_type": "code",
   "execution_count": 30,
   "metadata": {},
   "outputs": [
    {
     "data": {
      "text/plain": [
       "NaN"
      ]
     },
     "execution_count": 30,
     "metadata": {},
     "output_type": "execute_result"
    }
   ],
   "source": [
    "average('hello','world');  // 'helloworld'/2 => NaN"
   ]
  },
  {
   "cell_type": "markdown",
   "metadata": {},
   "source": [
    "### boolean and truthies\n",
    "\n",
    "* like c# javascript has a **true** boolean type with value **true** and **false**\n",
    "* unlike C# and like C, other values (such as number or string) can also be treated as boolean like in expression evaluation\n",
    "    * we call them \n",
    "        * true like or **truthies**\n",
    "        * false like or **falsies**\n",
    "        \n",
    "* common **true** values\n",
    "\n",
    "    * any non 0 number\n",
    "    * any non empty string\n",
    "    * any object\n",
    "    * any array inlcuding an empty array\n",
    "    \n",
    "    \n",
    "* common **false** values\n",
    "    * 0\n",
    "    * ''\n",
    "    * null\n",
    "    * undefined\n",
    "    * NaN\n",
    "    * error objects\n",
    "    \n",
    "    "
   ]
  },
  {
   "cell_type": "code",
   "execution_count": 31,
   "metadata": {},
   "outputs": [],
   "source": [
    "function mirror(value){\n",
    "    if(value)\n",
    "        console.log(value,'is true');\n",
    "    else\n",
    "        console.log(value,'is false');\n",
    "}"
   ]
  },
  {
   "cell_type": "code",
   "execution_count": 32,
   "metadata": {},
   "outputs": [
    {
     "name": "stdout",
     "output_type": "stream",
     "text": [
      "true is true\n",
      "false is false\n",
      "false is false\n",
      "true is true\n"
     ]
    }
   ],
   "source": [
    "mirror(true);\n",
    "mirror(false);\n",
    "mirror(2>3);\n",
    "mirror(2>1);"
   ]
  },
  {
   "cell_type": "code",
   "execution_count": 33,
   "metadata": {},
   "outputs": [
    {
     "name": "stdout",
     "output_type": "stream",
     "text": [
      "2 is true\n",
      "-2.5 is true\n",
      "0.4 is true\n",
      "0 is false\n"
     ]
    }
   ],
   "source": [
    "mirror(2);\n",
    "mirror(-2.5);\n",
    "mirror(0.4);\n",
    "mirror(0);"
   ]
  },
  {
   "cell_type": "code",
   "execution_count": 34,
   "metadata": {},
   "outputs": [
    {
     "name": "stdout",
     "output_type": "stream",
     "text": [
      "hello world is true\n",
      " is false\n"
     ]
    }
   ],
   "source": [
    "mirror('hello world');\n",
    "mirror('');"
   ]
  },
  {
   "cell_type": "code",
   "execution_count": 35,
   "metadata": {},
   "outputs": [
    {
     "name": "stdout",
     "output_type": "stream",
     "text": [
      "{} is true\n",
      "2019-10-16T06:41:27.132Z is true\n",
      "[] is true\n",
      "[] is true\n"
     ]
    }
   ],
   "source": [
    "mirror(new Object());\n",
    "mirror(new Date());\n",
    "mirror(new Array());\n",
    "mirror([]);"
   ]
  },
  {
   "cell_type": "code",
   "execution_count": 38,
   "metadata": {},
   "outputs": [
    {
     "name": "stdout",
     "output_type": "stream",
     "text": [
      "null is false\n",
      "NaN is false\n",
      "Infinity is true\n",
      "undefined is false\n"
     ]
    }
   ],
   "source": [
    "mirror(null);\n",
    "mirror('x'/1);\n",
    "mirror(1/0);\n",
    "mirror(undefined);"
   ]
  },
  {
   "cell_type": "code",
   "execution_count": null,
   "metadata": {},
   "outputs": [],
   "source": []
  }
 ],
 "metadata": {
  "kernelspec": {
   "display_name": "Javascript (Node.js)",
   "language": "javascript",
   "name": "javascript"
  },
  "language_info": {
   "file_extension": ".js",
   "mimetype": "application/javascript",
   "name": "javascript",
   "version": "12.6.0"
  }
 },
 "nbformat": 4,
 "nbformat_minor": 2
}
